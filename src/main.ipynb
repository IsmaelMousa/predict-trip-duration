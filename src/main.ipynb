import requests
import pandas as pd


def computing_the_trip_duration(data_frame: pd.DataFrame) -> pd.DataFrame:
    """

    :param data_frame:
    :return:
    """
    pass


def adding_hours_of_day_and_days_of_week(data_frame: pd.DataFrame) -> pd.DataFrame:
    """
pip install scipy
    :param data_frame:
    :return:
    """
    pass


if __name__ == '__main__':
    url = 'https://data.cityofnewyork.us/resource/4p5c-cbgn.json'

    response = requests.get(url=url)

    data_as_json = response.json()

    df = pd.DataFrame(data_as_json)
