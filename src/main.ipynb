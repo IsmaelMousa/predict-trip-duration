{
 "cells": [
  {
   "cell_type": "markdown",
   "metadata": {
    "id": "ySB2NBGTPSk3"
   },
   "source": [
    "### **Import required packages**\n"
   ]
  },
  {
   "cell_type": "code",
   "execution_count": null,
   "metadata": {
    "id": "H9VaOksSMhqn"
   },
   "outputs": [],
   "source": [
    "import pandas as pd\n",
    "from scipy.stats import norm"
   ]
  },
  {
   "cell_type": "markdown",
   "metadata": {
    "id": "puEgNhq6W8p0"
   },
   "source": [
    "### **1st Function**"
   ]
  },
  {
   "cell_type": "code",
   "execution_count": null,
   "metadata": {
    "id": "9ubUoWkyHjhL"
   },
   "outputs": [],
   "source": [
    "def compute_and_add_trip_duration(original_df: pd.DataFrame) -> pd.DataFrame:\n",
    "    \"\"\"\n",
    "    Computing the trip duration by using the difference between:\n",
    "    pickup_datetime and dropoff_datetime (in Minutes).\n",
    "    and the computed trip duration will be added as a new column called: trip_duration,\n",
    "    and this new column will be added to the original data frame.\n",
    "\n",
    "    finally the result data frame is returned from the function.\n",
    "\n",
    "    :param original_df: original data frame\n",
    "    :return: the original data frame with new column\n",
    "    \"\"\"\n",
    "\n",
    "    pick_up_datetime = pd.to_datetime(arg=original_df.pickup_datetime)\n",
    "    drop_off_datetime = pd.to_datetime(arg=original_df.dropoff_datetime)\n",
    "\n",
    "    trip_duration = ((drop_off_datetime - pick_up_datetime).dt.total_seconds() / 60).round(2)\n",
    "\n",
    "    original_df.insert(loc=4, column='trip_duration', value=trip_duration)\n",
    "\n",
    "    return original_df"
   ]
  },
  {
   "cell_type": "markdown",
   "metadata": {
    "id": "sD4kaHFsZx_a"
   },
   "source": [
    "### **2nd Function**"
   ]
  },
  {
   "cell_type": "code",
   "execution_count": null,
   "metadata": {
    "id": "g50TM2LsHjpg"
   },
   "outputs": [],
   "source": [
    "def add_hour_of_day_and_day_of_week(original_df: pd.DataFrame) -> pd.DataFrame:\n",
    "    \"\"\"\n",
    "    Adding two columns to the original data frame where the first column:\n",
    "    hour of day, and the second column: day of week from pickup_datetime field.\n",
    "\n",
    "    finally the new data frame is returned from the function.\n",
    "\n",
    "    :param original_df: original data frame\n",
    "    :return: the original data frame with new two columns\n",
    "    \"\"\"\n",
    "\n",
    "    hour_of_day = pd.to_datetime(arg=original_df.pickup_datetime).dt.hour\n",
    "    day_of_week = pd.to_datetime(arg=original_df.pickup_datetime).dt.day_name()\n",
    "\n",
    "    original_df.insert(loc=5, column='hour_of_day', value=hour_of_day)\n",
    "    original_df.insert(loc=6, column='day_of_week', value=day_of_week)\n",
    "\n",
    "    return original_df"
   ]
  },
  {
   "cell_type": "markdown",
   "metadata": {
    "id": "VUT9irJUYpVJ"
   },
   "source": [
    "### **3rd Function**"
   ]
  },
  {
   "cell_type": "code",
   "execution_count": null,
   "metadata": {
    "id": "oamiAOFsoXcg"
   },
   "outputs": [],
   "source": [
    "def compute_predictions(original_df: pd.DataFrame) -> pd.DataFrame:\n",
    "    \"\"\"\n",
    "    Computing a new data frame called predictions where the index is:\n",
    "\n",
    "    - PULocationID\n",
    "    - DOLocationID\n",
    "    - hour of day\n",
    "    - day of week\n",
    "\n",
    "    and has two columns:\n",
    "\n",
    "    - mean trip duration\n",
    "    - margin of error\n",
    "\n",
    "    the mean is computed for all trip durations for the same:\n",
    "    PULocationID / DOLocationID /day of week /hour of day.\n",
    "    the new data frame is returned from the function.\n",
    "\n",
    "    :param original_df: original data frame\n",
    "    :return: new data frame called predictions\n",
    "    \"\"\"\n",
    "\n",
    "    predictions = (original_df.groupby(by=['PULocationID', 'DOLocationID', 'hour_of_day', 'day_of_week'])\n",
    "                   .aggregate(mean_trip_duration=('trip_duration', 'mean'), margin_of_error=('trip_duration', 'sem')))\n",
    "\n",
    "    z_score = norm.ppf(q=0.975)\n",
    "\n",
    "    standard_error = predictions.margin_of_error\n",
    "\n",
    "    predictions.margin_of_error = (z_score * standard_error).round(2)\n",
    "\n",
    "    return predictions"
   ]
  },
  {
   "cell_type": "markdown",
   "metadata": {
    "id": "P6_KOD2Svvel"
   },
   "source": [
    "### **4th Function**"
   ]
  },
  {
   "cell_type": "code",
   "execution_count": null,
   "metadata": {
    "id": "8qor3Lumw3HJ"
   },
   "outputs": [],
   "source": [
    "def get_predictions(file_path: str) -> pd.DataFrame:\n",
    "    \"\"\"\n",
    "    Reading the data file and calling three functions:\n",
    "\n",
    "    - compute and add trip duration\n",
    "    - add hour of day and day of week\n",
    "    - compute predictions\n",
    "\n",
    "    finally to generate a new data frame called predictions.\n",
    "\n",
    "    :param file_path: dataset file path\n",
    "    :return: generated data frame called predictions\n",
    "    \"\"\"\n",
    "\n",
    "    original_df = pd.read_csv(filepath_or_buffer=file_path)\n",
    "\n",
    "    compute_and_add_trip_duration(original_df=original_df)\n",
    "\n",
    "    add_hour_of_day_and_day_of_week(original_df=original_df)\n",
    "\n",
    "    predictions = compute_predictions(original_df=original_df)\n",
    "\n",
    "    return predictions"
   ]
  },
  {
   "cell_type": "markdown",
   "metadata": {
    "id": "yx_kPPv9zIRd"
   },
   "source": [
    "### **Calling the function**\n",
    "Here i used `sample_path`, but if you want to use the whole data replace it with `data_path`."
   ]
  },
  {
   "cell_type": "code",
   "execution_count": null,
   "metadata": {
    "id": "6KZpWsOCzP_g"
   },
   "outputs": [],
   "source": [
    "data_path = '../data/data.csv'\n",
    "sample_path = '../data/sample.csv'\n",
    "\n",
    "get_predictions(file_path=sample_path)"
   ]
  }
 ],
 "metadata": {
  "accelerator": "TPU",
  "colab": {
   "provenance": []
  },
  "kernelspec": {
   "display_name": "Python 3 (ipykernel)",
   "language": "python",
   "name": "python3"
  },
  "language_info": {
   "codemirror_mode": {
    "name": "ipython",
    "version": 3
   },
   "file_extension": ".py",
   "mimetype": "text/x-python",
   "name": "python",
   "nbconvert_exporter": "python",
   "pygments_lexer": "ipython3",
   "version": "3.10.12"
  }
 },
 "nbformat": 4,
 "nbformat_minor": 4
}
